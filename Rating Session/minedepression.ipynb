{
 "cells": [
  {
   "cell_type": "code",
   "execution_count": 1,
   "id": "912f26f8",
   "metadata": {},
   "outputs": [
    {
     "name": "stdout",
     "output_type": "stream",
     "text": [
      "             Timestamp   \n",
      "0  11-12-2024 21:15:26  \\\n",
      "1  11-12-2024 21:15:35   \n",
      "2  11-12-2024 21:16:22   \n",
      "3  11-12-2024 21:16:46   \n",
      "4  11-12-2024 21:17:07   \n",
      "\n",
      "  Do you feel little interest or pleasure in doing things   \n",
      "0                                   Most of the time       \\\n",
      "1                                   Most of the time        \n",
      "2                                   Most of the time        \n",
      "3                               Nearly all the times        \n",
      "4                                   Some of the time        \n",
      "\n",
      "  Trouble falling or staying asleep, or sleeping too much   \n",
      "0                                   Some of the time       \\\n",
      "1                                   Most of the time        \n",
      "2                                              Never        \n",
      "3                                              Never        \n",
      "4                                   Some of the time        \n",
      "\n",
      "  Feeling bad about yourself - or that you are a failure or have let yourself or your family down   \n",
      "0                                   Some of the time                                               \\\n",
      "1                                   Most of the time                                                \n",
      "2                               Nearly all the times                                                \n",
      "3                                              Never                                                \n",
      "4                                   Some of the time                                                \n",
      "\n",
      "  Do you takes a lot of effort to start working on something new.   \n",
      "0                                   Some of the time               \\\n",
      "1                               Nearly all the times                \n",
      "2                               Nearly all the times                \n",
      "3                                   Some of the time                \n",
      "4                                   Some of the time                \n",
      "\n",
      "  Don't you get as much satisfaction out of things as you used to   \n",
      "0                                   Some of the time               \\\n",
      "1                                   Most of the time                \n",
      "2                               Nearly all the times                \n",
      "3                                   Most of the time                \n",
      "4                                   Most of the time                \n",
      "\n",
      "  Feel disinterested in things that earlier seemed pleasurable.   \n",
      "0                                              Never             \\\n",
      "1                                   Most of the time              \n",
      "2                               Nearly all the times              \n",
      "3                                   Some of the time              \n",
      "4                                   Some of the time              \n",
      "\n",
      "  Do you struggle with making decisions regularly?   \n",
      "0                                 Some of the time  \\\n",
      "1                                 Most of the time   \n",
      "2                                            Never   \n",
      "3                                            Never   \n",
      "4                                 Some of the time   \n",
      "\n",
      "  Do you frequently feel restless, anxious, or easily irritated?   \n",
      "0                                   Some of the time              \\\n",
      "1                                   Most of the time               \n",
      "2                                   Some of the time               \n",
      "3                                              Never               \n",
      "4                                   Most of the time               \n",
      "\n",
      "  Do you feel you are alone and no one is supporting you ?   \n",
      "0                                              Never        \\\n",
      "1                                   Some of the time         \n",
      "2                               Nearly all the times         \n",
      "3                               Nearly all the times         \n",
      "4                                   Most of the time         \n",
      "\n",
      "  Have you find yourself guilty of something and can't get out of it?  \n",
      "0                                              Never                   \n",
      "1                                   Some of the time                   \n",
      "2                               Nearly all the times                   \n",
      "3                                              Never                   \n",
      "4                                              Never                   \n"
     ]
    }
   ],
   "source": [
    "import pandas as pd\n",
    "\n",
    "# Load the survey data\n",
    "data = pd.read_csv('Depression_survey.csv')\n",
    "\n",
    "# Check the first few rows of the dataset\n",
    "print(data.head())"
   ]
  },
  {
   "cell_type": "code",
   "execution_count": 2,
   "id": "b5f827c8",
   "metadata": {},
   "outputs": [
    {
     "name": "stdout",
     "output_type": "stream",
     "text": [
      "     Timestamp  Do you feel little interest or pleasure in doing things   \n",
      "0          NaN                                                  2        \\\n",
      "1          NaN                                                  2         \n",
      "2          NaN                                                  2         \n",
      "3          NaN                                                  3         \n",
      "4          NaN                                                  1         \n",
      "..         ...                                                ...         \n",
      "151        NaN                                                  3         \n",
      "152        NaN                                                  2         \n",
      "153        NaN                                                  1         \n",
      "154        NaN                                                  1         \n",
      "155        NaN                                                  0         \n",
      "\n",
      "     Trouble falling or staying asleep, or sleeping too much   \n",
      "0                                                    1        \\\n",
      "1                                                    2         \n",
      "2                                                    0         \n",
      "3                                                    0         \n",
      "4                                                    1         \n",
      "..                                                 ...         \n",
      "151                                                  0         \n",
      "152                                                  2         \n",
      "153                                                  1         \n",
      "154                                                  3         \n",
      "155                                                  0         \n",
      "\n",
      "     Feeling bad about yourself - or that you are a failure or have let yourself or your family down   \n",
      "0                                                    1                                                \\\n",
      "1                                                    2                                                 \n",
      "2                                                    3                                                 \n",
      "3                                                    0                                                 \n",
      "4                                                    1                                                 \n",
      "..                                                 ...                                                 \n",
      "151                                                  1                                                 \n",
      "152                                                  3                                                 \n",
      "153                                                  1                                                 \n",
      "154                                                  2                                                 \n",
      "155                                                  0                                                 \n",
      "\n",
      "     Do you takes a lot of effort to start working on something new.   \n",
      "0                                                    1                \\\n",
      "1                                                    3                 \n",
      "2                                                    3                 \n",
      "3                                                    1                 \n",
      "4                                                    1                 \n",
      "..                                                 ...                 \n",
      "151                                                  2                 \n",
      "152                                                  1                 \n",
      "153                                                  3                 \n",
      "154                                                  3                 \n",
      "155                                                  0                 \n",
      "\n",
      "     Don't you get as much satisfaction out of things as you used to   \n",
      "0                                                    1                \\\n",
      "1                                                    2                 \n",
      "2                                                    3                 \n",
      "3                                                    2                 \n",
      "4                                                    2                 \n",
      "..                                                 ...                 \n",
      "151                                                  2                 \n",
      "152                                                  1                 \n",
      "153                                                  0                 \n",
      "154                                                  2                 \n",
      "155                                                  0                 \n",
      "\n",
      "     Feel disinterested in things that earlier seemed pleasurable.   \n",
      "0                                                    0              \\\n",
      "1                                                    2               \n",
      "2                                                    3               \n",
      "3                                                    1               \n",
      "4                                                    1               \n",
      "..                                                 ...               \n",
      "151                                                  1               \n",
      "152                                                  1               \n",
      "153                                                  2               \n",
      "154                                                  3               \n",
      "155                                                  0               \n",
      "\n",
      "     Do you struggle with making decisions regularly?   \n",
      "0                                                   1  \\\n",
      "1                                                   2   \n",
      "2                                                   0   \n",
      "3                                                   0   \n",
      "4                                                   1   \n",
      "..                                                ...   \n",
      "151                                                 0   \n",
      "152                                                 2   \n",
      "153                                                 1   \n",
      "154                                                 1   \n",
      "155                                                 0   \n",
      "\n",
      "     Do you frequently feel restless, anxious, or easily irritated?   \n",
      "0                                                    1               \\\n",
      "1                                                    2                \n",
      "2                                                    1                \n",
      "3                                                    0                \n",
      "4                                                    2                \n",
      "..                                                 ...                \n",
      "151                                                  1                \n",
      "152                                                  2                \n",
      "153                                                  3                \n",
      "154                                                  3                \n",
      "155                                                  0                \n",
      "\n",
      "     Do you feel you are alone and no one is supporting you ?   \n",
      "0                                                    0         \\\n",
      "1                                                    1          \n",
      "2                                                    3          \n",
      "3                                                    3          \n",
      "4                                                    2          \n",
      "..                                                 ...          \n",
      "151                                                  0          \n",
      "152                                                  3          \n",
      "153                                                  1          \n",
      "154                                                  3          \n",
      "155                                                  0          \n",
      "\n",
      "     Have you find yourself guilty of something and can't get out of it?  \n",
      "0                                                    0                    \n",
      "1                                                    1                    \n",
      "2                                                    3                    \n",
      "3                                                    0                    \n",
      "4                                                    0                    \n",
      "..                                                 ...                    \n",
      "151                                                  0                    \n",
      "152                                                  3                    \n",
      "153                                                  0                    \n",
      "154                                                  3                    \n",
      "155                                                  0                    \n",
      "\n",
      "[156 rows x 11 columns]\n"
     ]
    }
   ],
   "source": [
    "# Map textual answers to numerical values\n",
    "response_map = {\n",
    "    \"Never\": 0,\n",
    "    \"Some of the time\": 1,\n",
    "    \"Most of the time\": 2,\n",
    "    \"Nearly all the times\": 3\n",
    "}\n",
    "\n",
    "# Apply the mapping to all columns that contain responses\n",
    "for column in data.columns:\n",
    "    data[column] = data[column].map(response_map)\n",
    "\n",
    "# Check the transformed data\n",
    "print(data)\n"
   ]
  },
  {
   "cell_type": "code",
   "execution_count": 3,
   "id": "7c252f08",
   "metadata": {},
   "outputs": [],
   "source": [
    "data = data.drop(data.columns[0], axis=1)"
   ]
  },
  {
   "cell_type": "code",
   "execution_count": 4,
   "id": "6428b9b8",
   "metadata": {},
   "outputs": [
    {
     "name": "stdout",
     "output_type": "stream",
     "text": [
      "     total_score  depression_status\n",
      "0              8                  0\n",
      "1             19                  1\n",
      "2             21                  1\n",
      "3             10                  0\n",
      "4             12                  0\n",
      "..           ...                ...\n",
      "151           10                  0\n",
      "152           20                  1\n",
      "153           13                  0\n",
      "154           24                  1\n",
      "155            0                  0\n",
      "\n",
      "[156 rows x 2 columns]\n"
     ]
    }
   ],
   "source": [
    "# Assuming a score above a threshold indicates depression\n",
    "threshold = 15  # Adjust this based on your data analysis\n",
    "\n",
    "# Calculate total score for each response\n",
    "data['total_score'] = data.sum(axis=1)\n",
    "\n",
    "# Create a depression label: 1 for depressed, 0 for not depressed\n",
    "data['depression_status'] = data['total_score'].apply(lambda x: 1 if x > threshold else 0)\n",
    "\n",
    "# Check the new data with labels\n",
    "print(data[['total_score', 'depression_status']])\n"
   ]
  },
  {
   "cell_type": "code",
   "execution_count": 27,
   "id": "60708f7d",
   "metadata": {},
   "outputs": [
    {
     "data": {
      "image/png": "[encoded data removed]",
      "text/plain": [
       "<Figure size 600x600 with 1 Axes>"
      ]
     },
     "metadata": {},
     "output_type": "display_data"
    }
   ],
   "source": [
    "import matplotlib.pyplot as plt\n",
    "\n",
    "# Sample data (number of people labeled as depressed or not depressed)\n",
    "labels = ['Depressed', 'Not Depressed']\n",
    "sizes = [30, 70]  # Example numbers of depressed and not depressed\n",
    "colors = ['#87CEEB', '#FFDAB9']\n",
    "\n",
    "# Create a pie chart\n",
    "plt.figure(figsize=(6,6))\n",
    "plt.pie(sizes, labels=labels, colors=colors, autopct='%1.1f%%', startangle=140)\n",
    "plt.title('Depressed vs Not Depressed')\n",
    "plt.axis('equal')  # Equal aspect ratio ensures that pie is drawn as a circle.\n",
    "plt.show()\n"
   ]
  },
  {
   "cell_type": "code",
   "execution_count": 34,
   "id": "8d90d816",
   "metadata": {},
   "outputs": [
    {
     "data": {
      "image/png": "[encoded data removed]",
      "text/plain": [
       "<Figure size 600x600 with 1 Axes>"
      ]
     },
     "metadata": {},
     "output_type": "display_data"
    }
   ],
   "source": [
    "import matplotlib.pyplot as plt\n",
    "\n",
    "# Sample data: counts of each category (0, 1, 2, 3)\n",
    "categories = ['Never (0)', 'Nearly All (1)', 'Sometimes (2)', 'Most of the Time (3)']\n",
    "counts = [20, 40, 30, 10]  # Example counts for each category\n",
    "\n",
    "# Calculate the percentage for each category\n",
    "total = sum(counts)\n",
    "percentages = [(count / total) * 100 for count in counts]\n",
    "\n",
    "# Create the pie chart\n",
    "plt.figure(figsize=(6,6))\n",
    "plt.pie(percentages, labels=categories, autopct='%1.1f%%', startangle=140, colors=['#5F9EA0',\n",
    "'#FFE4E1',\n",
    "'#F08080',\n",
    "'#E6E6FA',\n",
    "])\n",
    "plt.title('Distribution of Responses')\n",
    "plt.axis('equal')  # Equal aspect ratio ensures that pie is drawn as a circle.\n",
    "plt.show()\n"
   ]
  },
  {
   "cell_type": "code",
   "execution_count": 5,
   "id": "8ad1917e",
   "metadata": {},
   "outputs": [],
   "source": [
    "# Separate features (X) and target (y)\n",
    "X = data.drop(columns=['depression_status', 'total_score'])  # Features are the survey responses\n",
    "y = data['depression_status']  # Target is the depression status\n",
    "\n",
    "# Split the data into training and testing sets (80% training, 20% testing)\n",
    "from sklearn.model_selection import train_test_split\n",
    "X_train, X_test, y_train, y_test = train_test_split(X, y, test_size=0.2, random_state=42)\n"
   ]
  },
  {
   "cell_type": "code",
   "execution_count": 7,
   "id": "ef7f0b88",
   "metadata": {},
   "outputs": [
    {
     "name": "stdout",
     "output_type": "stream",
     "text": [
      "Training Accuracy: 98.39%\n",
      "Testing Accuracy: 90.62%\n",
      "              precision    recall  f1-score   support\n",
      "\n",
      "           0       0.92      0.96      0.94        24\n",
      "           1       0.86      0.75      0.80         8\n",
      "\n",
      "    accuracy                           0.91        32\n",
      "   macro avg       0.89      0.85      0.87        32\n",
      "weighted avg       0.90      0.91      0.90        32\n",
      "\n"
     ]
    }
   ],
   "source": [
    "from sklearn.linear_model import LogisticRegression\n",
    "from sklearn.metrics import classification_report\n",
    "\n",
    "\n",
    "# Create and train the model\n",
    "model_lr = LogisticRegression()\n",
    "model_lr.fit(X_train, y_train)\n",
    "\n",
    "# Predict on the testing set\n",
    "lr_pred = model_lr.predict(X_test)\n",
    "\n",
    "# Calculate training accuracy\n",
    "train_accuracy = model_lr.score(X_train, y_train)\n",
    "print(f\"Training Accuracy: {train_accuracy * 100:.2f}%\")\n",
    "\n",
    "# Calculate testing accuracy\n",
    "test_accuracy = model_lr.score(X_test, y_test)\n",
    "print(f\"Testing Accuracy: {test_accuracy * 100:.2f}%\")\n",
    "\n",
    "print(classification_report(y_test,lr_pred))\n"
   ]
  },
  {
   "cell_type": "code",
   "execution_count": 9,
   "id": "1a509c9b",
   "metadata": {},
   "outputs": [
    {
     "name": "stdout",
     "output_type": "stream",
     "text": [
      "Training Accuracy: 100.00%\n",
      "Testing Accuracy: 71.88%\n"
     ]
    }
   ],
   "source": [
    "from sklearn.tree import DecisionTreeClassifier\n",
    "\n",
    "# Create and train the model\n",
    "tree_model = DecisionTreeClassifier(max_depth=5, random_state=42)\n",
    "tree_model.fit(X_train, y_train)\n",
    "\n",
    "tree_pred = tree_model.predict(X_test)\n",
    "\n",
    "# Calculate training accuracy\n",
    "train_accuracy =tree_model.score(X_train, y_train)\n",
    "print(f\"Training Accuracy: {train_accuracy * 100:.2f}%\")\n",
    "\n",
    "# Calculate testing accuracy\n",
    "test_accuracy =tree_model.score(X_test, y_test)\n",
    "print(f\"Testing Accuracy: {test_accuracy * 100:.2f}%\")\n",
    "\n"
   ]
  },
  {
   "cell_type": "code",
   "execution_count": 10,
   "id": "9b11d670",
   "metadata": {},
   "outputs": [
    {
     "name": "stdout",
     "output_type": "stream",
     "text": [
      "              precision    recall  f1-score   support\n",
      "\n",
      "           0       0.86      0.75      0.80        24\n",
      "           1       0.45      0.62      0.53         8\n",
      "\n",
      "    accuracy                           0.72        32\n",
      "   macro avg       0.66      0.69      0.66        32\n",
      "weighted avg       0.76      0.72      0.73        32\n",
      "\n"
     ]
    }
   ],
   "source": [
    "print(classification_report(y_test,tree_pred))"
   ]
  },
  {
   "cell_type": "code",
   "execution_count": 11,
   "id": "f45ecd8a",
   "metadata": {},
   "outputs": [
    {
     "name": "stdout",
     "output_type": "stream",
     "text": [
      "Training Accuracy: 100.00%\n",
      "Testing Accuracy: 87.50%\n"
     ]
    }
   ],
   "source": [
    "from sklearn.ensemble import RandomForestClassifier\n",
    "\n",
    "# Create and train the model\n",
    "rf_model = RandomForestClassifier(n_estimators=100, random_state=42)\n",
    "rf_model.fit(X_train, y_train)\n",
    "\n",
    "rf_pred = rf_model.predict(X_test)\n",
    "\n",
    "# Calculate training accuracy\n",
    "train_accuracy =rf_model.score(X_train, y_train)\n",
    "print(f\"Training Accuracy: {train_accuracy * 100:.2f}%\")\n",
    "\n",
    "# Calculate testing accuracy\n",
    "test_accuracy =rf_model.score(X_test, y_test)\n",
    "print(f\"Testing Accuracy: {test_accuracy * 100:.2f}%\")"
   ]
  },
  {
   "cell_type": "code",
   "execution_count": 12,
   "id": "653d7437",
   "metadata": {},
   "outputs": [
    {
     "name": "stdout",
     "output_type": "stream",
     "text": [
      "              precision    recall  f1-score   support\n",
      "\n",
      "           0       0.92      0.92      0.92        24\n",
      "           1       0.75      0.75      0.75         8\n",
      "\n",
      "    accuracy                           0.88        32\n",
      "   macro avg       0.83      0.83      0.83        32\n",
      "weighted avg       0.88      0.88      0.88        32\n",
      "\n"
     ]
    }
   ],
   "source": [
    "print(classification_report(y_test,rf_pred))"
   ]
  },
  {
   "cell_type": "code",
   "execution_count": 13,
   "id": "6340b574",
   "metadata": {},
   "outputs": [
    {
     "name": "stdout",
     "output_type": "stream",
     "text": [
      "Training Accuracy: 99.19%\n",
      "Testing Accuracy: 93.75%\n"
     ]
    }
   ],
   "source": [
    "from sklearn.svm import SVC\n",
    "\n",
    "# Create and train the model\n",
    "svm_model = SVC(kernel='linear', random_state=42)\n",
    "svm_model.fit(X_train, y_train)\n",
    "\n",
    "svm_pred = svm_model.predict(X_test)\n",
    "\n",
    "# Calculate training accuracy\n",
    "train_accuracy =svm_model.score(X_train, y_train)\n",
    "print(f\"Training Accuracy: {train_accuracy * 100:.2f}%\")\n",
    "\n",
    "# Calculate testing accuracy\n",
    "test_accuracy =svm_model.score(X_test, y_test)\n",
    "print(f\"Testing Accuracy: {test_accuracy * 100:.2f}%\")\n"
   ]
  },
  {
   "cell_type": "code",
   "execution_count": 14,
   "id": "9c8df2c7",
   "metadata": {},
   "outputs": [
    {
     "name": "stdout",
     "output_type": "stream",
     "text": [
      "              precision    recall  f1-score   support\n",
      "\n",
      "           0       0.96      0.96      0.96        24\n",
      "           1       0.88      0.88      0.88         8\n",
      "\n",
      "    accuracy                           0.94        32\n",
      "   macro avg       0.92      0.92      0.92        32\n",
      "weighted avg       0.94      0.94      0.94        32\n",
      "\n"
     ]
    }
   ],
   "source": [
    "print(classification_report(y_test,svm_pred))"
   ]
  },
  {
   "cell_type": "code",
   "execution_count": 15,
   "id": "1fd9feb6",
   "metadata": {},
   "outputs": [
    {
     "name": "stdout",
     "output_type": "stream",
     "text": [
      "Training Accuracy: 97.58%\n",
      "Testing Accuracy: 93.75%\n"
     ]
    }
   ],
   "source": [
    "from sklearn.naive_bayes import GaussianNB\n",
    "\n",
    "# Create and train the model\n",
    "nb_model = GaussianNB()\n",
    "nb_model.fit(X_train, y_train)\n",
    "\n",
    "nb_pred = nb_model.predict(X_test)\n",
    "\n",
    "# Calculate training accuracy\n",
    "train_accuracy =nb_model.score(X_train, y_train)\n",
    "print(f\"Training Accuracy: {train_accuracy * 100:.2f}%\")\n",
    "\n",
    "# Calculate testing accuracy\n",
    "test_accuracy =nb_model.score(X_test, y_test)\n",
    "print(f\"Testing Accuracy: {test_accuracy * 100:.2f}%\")\n"
   ]
  },
  {
   "cell_type": "code",
   "execution_count": 16,
   "id": "499e2c63",
   "metadata": {},
   "outputs": [
    {
     "name": "stdout",
     "output_type": "stream",
     "text": [
      "              precision    recall  f1-score   support\n",
      "\n",
      "           0       0.96      0.96      0.96        24\n",
      "           1       0.88      0.88      0.88         8\n",
      "\n",
      "    accuracy                           0.94        32\n",
      "   macro avg       0.92      0.92      0.92        32\n",
      "weighted avg       0.94      0.94      0.94        32\n",
      "\n"
     ]
    }
   ],
   "source": [
    "print(classification_report(y_test,nb_pred))"
   ]
  },
  {
   "cell_type": "code",
   "execution_count": 19,
   "id": "557c6c0e",
   "metadata": {},
   "outputs": [
    {
     "name": "stdout",
     "output_type": "stream",
     "text": [
      "+---------------+----------+-----------+----------+\n",
      "|     model     | accuracy | precision | f1-score |\n",
      "+---------------+----------+-----------+----------+\n",
      "| decision tree |   0.72   |    0.76   |   0.73   |\n",
      "| random forest |   0.88   |    0.88   |   0.88   |\n",
      "|      svm      |   0.94   |    0.94   |   0.94   |\n",
      "|  naive bayes  |   0.94   |    0.92   |   0.94   |\n",
      "+---------------+----------+-----------+----------+\n"
     ]
    }
   ],
   "source": [
    "from prettytable import PrettyTable\n",
    "table=PrettyTable()\n",
    "table.field_names=[\"model\",\"accuracy\",\"precision\",\"f1-score\"]\n",
    "table.add_row([\"decision tree\",\"0.72\",\"0.76\",\"0.73\"])\n",
    "table.add_row([\"random forest\",\"0.88\",\"0.88\",\"0.88\"])\n",
    "table.add_row([\"svm\",\"0.94\",\"0.94\",\"0.94\"])\n",
    "table.add_row([\"naive bayes\",\"0.94\",\"0.92\",\"0.94\"])\n",
    "print(table)"
   ]
  },
  {
   "cell_type": "code",
   "execution_count": 17,
   "id": "5c7b2855",
   "metadata": {},
   "outputs": [
    {
     "data": {
      "text/plain": [
       "['depression_model.pkl']"
      ]
     },
     "execution_count": 17,
     "metadata": {},
     "output_type": "execute_result"
    }
   ],
   "source": [
    "import joblib\n",
    "\n",
    "# Save the trained model to a file\n",
    "joblib.dump(nb_model, 'depression_model.pkl')"
   ]
  },
  {
   "cell_type": "code",
   "execution_count": 18,
   "id": "6dcfc5d5",
   "metadata": {},
   "outputs": [
    {
     "name": "stdout",
     "output_type": "stream",
     "text": [
      "Answer the following questions:\n",
      "Options: Never (0), Sometimes (1), Most of the time (2), Nearly all the time (3)\n",
      "Do you feel disinterested in things that earlier seemed pleasurable?\n",
      "Your answer (0-3): 2\n",
      "Do you have trouble falling or staying asleep, or sleeping too much?\n",
      "Your answer (0-3): 2\n",
      "Do you feel bad about yourself or like you have let others down?\n",
      "Your answer (0-3): 2\n",
      "Do you move or speak so slowly that others notice, or feel restless?\n",
      "Your answer (0-3): 3\n",
      "Do you find it hard to focus on things like reading or watching TV?\n",
      "Your answer (0-3): 2\n",
      "Do you feel tired or have little energy?\n",
      "Your answer (0-3): 3\n",
      "Do you overeat or have poor appetite?\n",
      "Your answer (0-3): 3\n",
      "Do you feel hopeless about the future?\n",
      "Your answer (0-3): 2\n",
      "Do you feel easily annoyed or irritable?\n",
      "Your answer (0-3): 2\n",
      "Do you feel like life is not worth living?\n",
      "Your answer (0-3): 2\n",
      "\n",
      "Result: The person is likely depressed.\n",
      "Depression Score: 1.00\n"
     ]
    },
    {
     "name": "stderr",
     "output_type": "stream",
     "text": [
      "C:\\Users\\Naina Sharma\\AppData\\Local\\Programs\\Python\\Python310\\lib\\site-packages\\sklearn\\base.py:465: UserWarning: X does not have valid feature names, but GaussianNB was fitted with feature names\n",
      "  warnings.warn(\n",
      "C:\\Users\\Naina Sharma\\AppData\\Local\\Programs\\Python\\Python310\\lib\\site-packages\\sklearn\\base.py:465: UserWarning: X does not have valid feature names, but GaussianNB was fitted with feature names\n",
      "  warnings.warn(\n"
     ]
    }
   ],
   "source": [
    "import joblib\n",
    "import numpy as np\n",
    "\n",
    "# Step 1: Load the Trained Model\n",
    "model = joblib.load('depression_model.pkl')  # Ensure you saved the model earlier\n",
    "\n",
    "# Step 2: Define the Questions\n",
    "questions = [\n",
    "    \"Do you feel disinterested in things that earlier seemed pleasurable?\",\n",
    "    \"Do you have trouble falling or staying asleep, or sleeping too much?\",\n",
    "    \"Do you feel bad about yourself or like you have let others down?\",\n",
    "    \"Do you move or speak so slowly that others notice, or feel restless?\",\n",
    "    \"Do you find it hard to focus on things like reading or watching TV?\",\n",
    "    \"Do you feel tired or have little energy?\",\n",
    "    \"Do you overeat or have poor appetite?\",\n",
    "    \"Do you feel hopeless about the future?\",\n",
    "    \"Do you feel easily annoyed or irritable?\",\n",
    "    \"Do you feel like life is not worth living?\",\n",
    "]\n",
    "\n",
    "# Step 3: Collect Responses\n",
    "print(\"Answer the following questions:\")\n",
    "print(\"Options: Never (0), Sometimes (1), Most of the time (2), Nearly all the time (3)\")\n",
    "\n",
    "responses = []\n",
    "for question in questions:\n",
    "    while True:  # Ensure valid input\n",
    "        try:\n",
    "            print(question)\n",
    "            answer = int(input(\"Your answer (0-3): \"))\n",
    "            if answer in [0, 1, 2, 3]:\n",
    "                responses.append(answer)\n",
    "                break\n",
    "            else:\n",
    "                print(\"Please enter a valid option (0-3).\")\n",
    "        except ValueError:\n",
    "            print(\"Invalid input. Please enter a number between 0 and 3.\")\n",
    "\n",
    "# Step 4: Format Input for Model\n",
    "input_data = np.array([responses])\n",
    "\n",
    "# Step 5: Make Prediction\n",
    "prediction = model.predict(input_data)\n",
    "depression_score = model.predict_proba(input_data)[0][1]  # Probability of being in class \"1\" (depressed)\n",
    "\n",
    "# Step 6: Output the Result\n",
    "if prediction[0] == 1:\n",
    "    print(f\"\\nResult: The person is likely depressed.\")\n",
    "    print(f\"Depression Score: {depression_score:.2f}\")\n",
    "else:\n",
    "    print(f\"\\nResult: The person is not depressed.\")\n",
    "    print(f\"Depression Score: {depression_score:.2f}\")\n"
   ]
  },
  {
   "cell_type": "code",
   "execution_count": null,
   "id": "25294d32",
   "metadata": {},
   "outputs": [],
   "source": []
  }
 ],
 "metadata": {
  "kernelspec": {
   "display_name": "Python 3 (ipykernel)",
   "language": "python",
   "name": "python3"
  },
  "language_info": {
   "codemirror_mode": {
    "name": "ipython",
    "version": 3
   },
   "file_extension": ".py",
   "mimetype": "text/x-python",
   "name": "python",
   "nbconvert_exporter": "python",
   "pygments_lexer": "ipython3",
   "version": "3.10.7"
  }
 },
 "nbformat": 4,
 "nbformat_minor": 5
}
